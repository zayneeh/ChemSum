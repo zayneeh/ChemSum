{
  "nbformat": 4,
  "nbformat_minor": 0,
  "metadata": {
    "colab": {
      "provenance": [],
      "toc_visible": true,
      "authorship_tag": "ABX9TyPiAK6x0XhDvy2dSKkkA95t",
      "include_colab_link": true
    },
    "kernelspec": {
      "name": "python3",
      "display_name": "Python 3"
    },
    "language_info": {
      "name": "python"
    }
  },
  "cells": [
    {
      "cell_type": "markdown",
      "metadata": {
        "id": "view-in-github",
        "colab_type": "text"
      },
      "source": [
        "<a href=\"https://colab.research.google.com/github/zayneeh/ChemSum/blob/main/ChemSum_Extract_Txt.ipynb\" target=\"_parent\"><img src=\"https://colab.research.google.com/assets/colab-badge.svg\" alt=\"Open In Colab\"/></a>"
      ]
    },
    {
      "cell_type": "markdown",
      "source": [],
      "metadata": {
        "id": "Em1eTLQW-eE4"
      }
    },
    {
      "cell_type": "markdown",
      "source": [
        "## Extract the text from the pdfs into a .txt file for easy annotation"
      ],
      "metadata": {
        "id": "JkHfMeEPAfN_"
      }
    },
    {
      "cell_type": "code",
      "source": [
        "!pip install PyPDF2\n"
      ],
      "metadata": {
        "colab": {
          "base_uri": "https://localhost:8080/"
        },
        "id": "euA9wpoHClDR",
        "outputId": "a11dc9dd-64ff-4705-d436-a6327bbf826f"
      },
      "execution_count": 3,
      "outputs": [
        {
          "output_type": "stream",
          "name": "stdout",
          "text": [
            "Collecting PyPDF2\n",
            "  Downloading pypdf2-3.0.1-py3-none-any.whl.metadata (6.8 kB)\n",
            "Downloading pypdf2-3.0.1-py3-none-any.whl (232 kB)\n",
            "\u001b[2K   \u001b[90m━━━━━━━━━━━━━━━━━━━━━━━━━━━━━━━━━━━━━━━━\u001b[0m \u001b[32m232.6/232.6 kB\u001b[0m \u001b[31m4.0 MB/s\u001b[0m eta \u001b[36m0:00:00\u001b[0m\n",
            "\u001b[?25hInstalling collected packages: PyPDF2\n",
            "Successfully installed PyPDF2-3.0.1\n"
          ]
        }
      ]
    },
    {
      "cell_type": "code",
      "source": [
        "import os\n",
        "import PyPDF2 # PyMuPDF for better text extraction\n"
      ],
      "metadata": {
        "id": "ymd3HBo_Ci_A"
      },
      "execution_count": 4,
      "outputs": []
    },
    {
      "cell_type": "code",
      "source": [
        "from google.colab import drive\n",
        "drive.mount('/content/drive')"
      ],
      "metadata": {
        "colab": {
          "base_uri": "https://localhost:8080/"
        },
        "id": "ecNVGGwR-MYv",
        "outputId": "06de5aee-2df9-4ec0-a4b8-7d9d0d6b31ac"
      },
      "execution_count": 1,
      "outputs": [
        {
          "output_type": "stream",
          "name": "stdout",
          "text": [
            "Mounted at /content/drive\n"
          ]
        }
      ]
    },
    {
      "cell_type": "code",
      "execution_count": 6,
      "metadata": {
        "id": "1goJuUNXm7hM",
        "colab": {
          "base_uri": "https://localhost:8080/"
        },
        "outputId": "f4f82925-619b-476f-9ff7-3fe4206f0434"
      },
      "outputs": [
        {
          "output_type": "stream",
          "name": "stdout",
          "text": [
            "Processing The-Role-of-Autonomous-Systems-and-Robotics-in-Biochemical-Engineering.pdf...\n",
            "Processing GSCBPS-2024-0116.pdf...\n",
            "Processing j.ajcbe.20240802.11 (1).pdf...\n",
            "Processing j.ajcbe.20240801.12.pdf...\n",
            "Processing 1-s2.0-S1369703X24003000-main.pdf...\n",
            "Processing ajol-file-journals_95_articles_282351_672cbad9cb7dc.pdf...\n",
            "Processing 1934.pdf...\n",
            "Processing Obagbemisoye1882024SAJRM120777.pdf...\n",
            "Processing Emeka4412024BN1578.pdf...\n",
            "Processing paper_1.pdf...\n",
            "Processing ssrn-4986306.pdf...\n",
            "Processing EmergingtrendsinPOMEtreatmentandapplications_chemicalandbiotechnologicalaspects1.pdf...\n",
            "Processing Fajilade1692024EJNFS114687.pdf...\n",
            "Processing 1873-280441-x-1142314.pdf...\n",
            "Processing Oalib2024 11null_1111847.pdf...\n",
            "Processing fceng-06-1451187.pdf...\n",
            "Processing James3692024JPRI122427.pdf...\n",
            "Processing Journal Article.pdf...\n",
            "Processing 710570.pdf...\n",
            "Processing 10.1201_9781003316374_previewpdf.pdf...\n",
            "Processing 3961-Article Text-7352-1-10-20240103.pdf...\n",
            "Processing A_Conceptual_Review_of_Electrical_Power.pdf...\n",
            "Processing out.pdf...\n",
            "Processing wpt0182495.pdf...\n",
            "Processing PIIS2405844023068834.pdf...\n",
            "Processing LS-733.pdf...\n",
            "Processing ajol-file-journals_538_articles_257179_65297f17a1d19.pdf...\n",
            "Processing 3IJEAB-106202417-Investigating.pdf...\n",
            "Processing Degradation_of_Rice_Husks_by_Fungi_Speci.pdf...\n",
            "Processing ajol-file-journals_387_articles_263403_65b225eb4f5c7.pdf...\n",
            "Processing Digital games in engineering education  systematic review and future trends.pdf...\n",
            "Processing JournalofNaturalSciences2023Vol3Issue1.pdf...\n",
            "Processing Conversion_of_waste_products_derived_fro.pdf...\n",
            "Processing Ibrahim+et+al.,+2023.pdf...\n",
            "Processing 1921-Article Text-4118-1-10-20230905.pdf...\n",
            "Processing biomassconferencepaper.pdf...\n",
            "Processing journal.pgph.0002213.pdf...\n",
            "Processing 880a772d-d3f4-4014-981a-8dcbd2325d31.pdf...\n",
            "Processing Valorized_Palm_Kernel_Cake_and_Bambaranut_Meal_Aff.pdf...\n",
            "Processing ab6b2050-2a54-45e4-8e4a-d63e227d2418.pdf...\n",
            "Processing 1-s2.0-S1385894722039638-main.pdf...\n",
            "Processing 1-s2.0-S2666893923000038-main.pdf...\n",
            "Processing ajol-file-journals_719_articles_278346_66e08a4112294.pdf...\n",
            "Processing KamaluddeenandMadika2023.pdf...\n",
            "Processing wpt0191615.pdf...\n",
            "Processing biomassconferencepaper (1).pdf...\n",
            "Processing Kundam312024AJFRN114141.pdf...\n",
            "Processing Gautam4652024JEAI115001.pdf...\n",
            "Processing 1168-Article Text-2719-1-10-20230312.pdf...\n",
            "Processing Determination of Metal 13-23.pdf...\n",
            "All text has been saved to /content/drive/MyDrive/CHEMSUM/SUM.txt.\n"
          ]
        }
      ],
      "source": [
        "\n",
        "from PyPDF2 import PdfReader\n",
        "\n",
        "# Path to the folder containing the PDFs\n",
        "input_folder = \"/content/drive/MyDrive/CHEMSUM\"\n",
        "\n",
        "# Path to the output text file\n",
        "output_txt_file = \"/content/drive/MyDrive/CHEMSUM/SUM.txt\"\n",
        "\n",
        "# Open the output text file for writing\n",
        "with open(output_txt_file, \"w\", encoding=\"utf-8\") as outfile:\n",
        "    # Process each PDF in the folder\n",
        "    for filename in os.listdir(input_folder):\n",
        "        if filename.endswith(\".pdf\"):\n",
        "            pdf_path = os.path.join(input_folder, filename)\n",
        "            print(f\"Processing {filename}...\")\n",
        "\n",
        "            # Read the PDF\n",
        "            reader = PdfReader(pdf_path)\n",
        "\n",
        "            # Extract text from each page\n",
        "            for page_num, page in enumerate(reader.pages):\n",
        "                try:\n",
        "                    text = page.extract_text()\n",
        "                    if text:  # Check if text is not empty\n",
        "                        outfile.write(f\"--- Text from {filename}, Page {page_num + 1} ---\\n\")\n",
        "                        outfile.write(text + \"\\n\\n\")\n",
        "                except Exception as e:\n",
        "                    print(f\"Could not extract text from {filename}, Page {page_num + 1}: {e}\")\n",
        "\n",
        "print(f\"All text has been saved to {output_txt_file}.\")\n"
      ]
    },
    {
      "cell_type": "code",
      "source": [],
      "metadata": {
        "id": "JaRDwjCyCbn-"
      },
      "execution_count": null,
      "outputs": []
    }
  ]
}