{
  "nbformat": 4,
  "nbformat_minor": 0,
  "metadata": {
    "colab": {
      "provenance": [],
      "authorship_tag": "ABX9TyM5VPLqg40xw+uFVxdHk9Lw",
      "include_colab_link": true
    },
    "kernelspec": {
      "name": "python3",
      "display_name": "Python 3"
    },
    "language_info": {
      "name": "python"
    }
  },
  "cells": [
    {
      "cell_type": "markdown",
      "metadata": {
        "id": "view-in-github",
        "colab_type": "text"
      },
      "source": [
        "<a href=\"https://colab.research.google.com/github/zayneeh/ChemSum/blob/main/Clean_txt.ipynb\" target=\"_parent\"><img src=\"https://colab.research.google.com/assets/colab-badge.svg\" alt=\"Open In Colab\"/></a>"
      ]
    },
    {
      "cell_type": "markdown",
      "source": [
        "# Clean Text to be able to annotate on LabelStudio\n"
      ],
      "metadata": {
        "id": "SlgCsrVBToPB"
      }
    },
    {
      "cell_type": "code",
      "execution_count": 1,
      "metadata": {
        "colab": {
          "base_uri": "https://localhost:8080/"
        },
        "id": "BV56W9lVFO0W",
        "outputId": "c63efbef-3541-416d-c8b9-730ec4440e72"
      },
      "outputs": [
        {
          "output_type": "stream",
          "name": "stdout",
          "text": [
            "Mounted at /content/drive\n"
          ]
        }
      ],
      "source": [
        "from google.colab import drive\n",
        "drive.mount('/content/drive')"
      ]
    },
    {
      "cell_type": "code",
      "source": [
        "# Cleaning the uploaded text file to remove invalid characters and non-printable characters\n",
        "\n",
        "def clean_text(text):\n",
        "    \"\"\"\n",
        "    Cleans the text by removing invalid characters\n",
        "    \"\"\"\n",
        "    # Remove null characters and ensure only printable characters remain\n",
        "    cleaned_text = ''.join(char for char in text if char.isprintable() or char in \"\\n\\t\")\n",
        "    return cleaned_text\n",
        "\n"
      ],
      "metadata": {
        "id": "kXTvUvzUFVzj"
      },
      "execution_count": 2,
      "outputs": []
    },
    {
      "cell_type": "code",
      "source": [
        "# Paths for the input and output files\n",
        "input_file_path = '/content/drive/MyDrive/CHEMSUM/SUM.txt'\n",
        "output_file_path = '/content/drive/MyDrive/CHEMSUM/CHEMSUM.txt'\n",
        "\n",
        "# Read the input file\n",
        "with open(input_file_path, 'r', encoding='utf-8') as infile:\n",
        "    raw_text = infile.read()\n",
        "\n",
        "# Clean the text\n",
        "cleaned_text = clean_text(raw_text)\n",
        "\n",
        "# Save the cleaned text to a new file\n",
        "with open(output_file_path, 'w', encoding='utf-8') as outfile:\n",
        "    outfile.write(cleaned_text)\n",
        "\n",
        "output_file_path\n"
      ],
      "metadata": {
        "colab": {
          "base_uri": "https://localhost:8080/",
          "height": 35
        },
        "id": "KQaQ471cF3P0",
        "outputId": "2e5650e8-8cda-49ff-f58f-95bd25f754ee"
      },
      "execution_count": 3,
      "outputs": [
        {
          "output_type": "execute_result",
          "data": {
            "text/plain": [
              "'/content/drive/MyDrive/CHEMSUM/CHEMSUM.txt'"
            ],
            "application/vnd.google.colaboratory.intrinsic+json": {
              "type": "string"
            }
          },
          "metadata": {},
          "execution_count": 3
        }
      ]
    },
    {
      "cell_type": "code",
      "source": [],
      "metadata": {
        "id": "8LgluG7sGIVe"
      },
      "execution_count": null,
      "outputs": []
    }
  ]
}